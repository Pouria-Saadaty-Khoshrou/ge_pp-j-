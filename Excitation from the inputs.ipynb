{
 "cells": [
  {
   "cell_type": "code",
   "execution_count": 14,
   "id": "705755c4",
   "metadata": {},
   "outputs": [],
   "source": [
    "import numpy as np"
   ]
  },
  {
   "cell_type": "code",
   "execution_count": 91,
   "id": "d488323a",
   "metadata": {},
   "outputs": [],
   "source": [
    "# tedade laye ha ro bayad bedunim\n",
    "# tedade granule cell ro bayad bedunim\n",
    "# kodom granule cell ro mikhaim\n",
    "# tedade axa ro bayad bedunim\n",
    "## arraye axa ro bayad bedim\n",
    "# vazn dehi avalie bokonim\n",
    "def function_ge_pp_J(number_of_layer_i, number_of_granulecells_j, which_granule_cell, \n",
    "                     number_of_sn_picture, sn_picture_array, weights):\n",
    "    \n",
    "    I = number_of_layer_i\n",
    "    J = number_of_granulecells_j\n",
    "    j = which_granule_cell-1\n",
    "    SN_number = number_of_sn_picture\n",
    "    SN = sn_picture_array\n",
    "    w = weights\n",
    "    vj = np.zeros(())\n",
    "    \n",
    "    for i in range (0,I):\n",
    "        for sn_number in range(0,SN_number):\n",
    "            print(sn_number,' * ',j, i,'\\n\\n')\n",
    "            #print(SN[sn_number],' * ',w[j][i],'\\n\\n')\n",
    "            print('sn = ', SN[sn_number])\n",
    "            print('wij = ', w[j][i] )\n",
    "            vj = np.add(vj,np.multiply(SN[sn_number],w[j][i]))\n",
    "            print('vj = ', vj, '\\n\\n\\n')"
   ]
  },
  {
   "cell_type": "code",
   "execution_count": 92,
   "id": "39e1bab6",
   "metadata": {},
   "outputs": [
    {
     "name": "stdout",
     "output_type": "stream",
     "text": [
      "0  *  0 0 \n",
      "\n",
      "\n",
      "sn =  [[1, 2], [3, 4]]\n",
      "wij =  8\n",
      "vj =  [[ 8. 16.]\n",
      " [24. 32.]] \n",
      "\n",
      "\n",
      "\n",
      "1  *  0 0 \n",
      "\n",
      "\n",
      "sn =  [[5, 6], [7, 8]]\n",
      "wij =  8\n",
      "vj =  [[48. 64.]\n",
      " [80. 96.]] \n",
      "\n",
      "\n",
      "\n",
      "0  *  0 1 \n",
      "\n",
      "\n",
      "sn =  [[1, 2], [3, 4]]\n",
      "wij =  9\n",
      "vj =  [[ 57.  82.]\n",
      " [107. 132.]] \n",
      "\n",
      "\n",
      "\n",
      "1  *  0 1 \n",
      "\n",
      "\n",
      "sn =  [[5, 6], [7, 8]]\n",
      "wij =  9\n",
      "vj =  [[102. 136.]\n",
      " [170. 204.]] \n",
      "\n",
      "\n",
      "\n"
     ]
    }
   ],
   "source": [
    "#weight = np.random.randint(1,10,(2,2))\n",
    "#print('weight: ', weight)\n",
    "weight = [[8,9],[7,9]]\n",
    "picture_array = [[[1,2],[3,4]], [[5,6],[7,8]]]\n",
    "i=2\n",
    "j=2\n",
    "number_of_picture = 2\n",
    "\n",
    "\n",
    "\n",
    "function_ge_pp_J(i, j, 1, 2, picture_array, weight)"
   ]
  }
 ],
 "metadata": {
  "kernelspec": {
   "display_name": "Python 3 (ipykernel)",
   "language": "python",
   "name": "python3"
  },
  "language_info": {
   "codemirror_mode": {
    "name": "ipython",
    "version": 3
   },
   "file_extension": ".py",
   "mimetype": "text/x-python",
   "name": "python",
   "nbconvert_exporter": "python",
   "pygments_lexer": "ipython3",
   "version": "3.9.12"
  }
 },
 "nbformat": 4,
 "nbformat_minor": 5
}
